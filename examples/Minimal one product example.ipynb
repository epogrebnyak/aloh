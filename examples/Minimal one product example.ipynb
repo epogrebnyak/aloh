{
 "cells": [
  {
   "cell_type": "markdown",
   "metadata": {},
   "source": [
    " ### Example \n",
    " \n",
    " One product named \"A\", three days, five orders. Which order to choose? What is optimal production on each day?"
   ]
  },
  {
   "cell_type": "code",
   "execution_count": 26,
   "metadata": {},
   "outputs": [
    {
     "name": "stdout",
     "output_type": "stream",
     "text": [
      "Solved in 0.099 sec\n"
     ]
    }
   ],
   "source": [
    "from aloh import OptModel, Product\n",
    "\n",
    "pa = Product(name=\"A\", capacity=10, unit_cost=0.1, storage_days=1)\n",
    "pa.add_order(day=0, volume=7, price=0.2)     # less profitable\n",
    "pa.add_order(day=0, volume=7, price=0.3)     # more profitable, must take\n",
    "pa.add_order(day=1, volume=10, price=0.09)   # unprofitable, reject\n",
    "pa.add_order(day=2, volume=6, price=0.25)    # can accept both with storage\n",
    "pa.add_order(day=2, volume=6, price=0.25)    # can accept both with storage\n",
    "\n",
    "m = OptModel(products=[pa], model_name=\"model_0\", inventory_weight=0)\n",
    "ac, xs = m.evaluate()"
   ]
  },
  {
   "cell_type": "markdown",
   "metadata": {},
   "source": [
    "#### Production schedule\n",
    "\n",
    "Production (*x*), shipments (*ship*), inventory (_inv_) volumes by day, *sales* and *costs* in money terms. "
   ]
  },
  {
   "cell_type": "code",
   "execution_count": 24,
   "metadata": {},
   "outputs": [
    {
     "data": {
      "text/html": [
       "<div>\n",
       "<style scoped>\n",
       "    .dataframe tbody tr th:only-of-type {\n",
       "        vertical-align: middle;\n",
       "    }\n",
       "\n",
       "    .dataframe tbody tr th {\n",
       "        vertical-align: top;\n",
       "    }\n",
       "\n",
       "    .dataframe thead th {\n",
       "        text-align: right;\n",
       "    }\n",
       "</style>\n",
       "<table border=\"1\" class=\"dataframe\">\n",
       "  <thead>\n",
       "    <tr style=\"text-align: right;\">\n",
       "      <th></th>\n",
       "      <th>x</th>\n",
       "      <th>ship</th>\n",
       "      <th>inv</th>\n",
       "      <th>sales</th>\n",
       "      <th>costs</th>\n",
       "    </tr>\n",
       "  </thead>\n",
       "  <tbody>\n",
       "    <tr>\n",
       "      <th>0</th>\n",
       "      <td>7.0</td>\n",
       "      <td>7.0</td>\n",
       "      <td>0.0</td>\n",
       "      <td>2.1</td>\n",
       "      <td>0.7</td>\n",
       "    </tr>\n",
       "    <tr>\n",
       "      <th>1</th>\n",
       "      <td>2.0</td>\n",
       "      <td>0.0</td>\n",
       "      <td>2.0</td>\n",
       "      <td>0.0</td>\n",
       "      <td>0.2</td>\n",
       "    </tr>\n",
       "    <tr>\n",
       "      <th>2</th>\n",
       "      <td>10.0</td>\n",
       "      <td>12.0</td>\n",
       "      <td>0.0</td>\n",
       "      <td>3.0</td>\n",
       "      <td>1.0</td>\n",
       "    </tr>\n",
       "  </tbody>\n",
       "</table>\n",
       "</div>"
      ],
      "text/plain": [
       "      x  ship  inv  sales  costs\n",
       "0   7.0   7.0  0.0    2.1    0.7\n",
       "1   2.0   0.0  2.0    0.0    0.2\n",
       "2  10.0  12.0  0.0    3.0    1.0"
      ]
     },
     "execution_count": 24,
     "metadata": {},
     "output_type": "execute_result"
    }
   ],
   "source": [
    "m.product_dataframe(\"A\")"
   ]
  },
  {
   "cell_type": "code",
   "execution_count": 29,
   "metadata": {},
   "outputs": [
    {
     "name": "stdout",
     "output_type": "stream",
     "text": [
      "|    |   x |   ship |   inv |   sales |   costs |\n",
      "|---:|----:|-------:|------:|--------:|--------:|\n",
      "|  0 |   7 |      7 |     0 |     2.1 |     0.7 |\n",
      "|  1 |   2 |      0 |     2 |     0   |     0.2 |\n",
      "|  2 |  10 |     12 |     0 |     3   |     1   |\n"
     ]
    }
   ],
   "source": [
    "print(m.product_dataframe(\"A\").to_markdown())"
   ]
  },
  {
   "cell_type": "markdown",
   "metadata": {},
   "source": [
    "#### Order selection \n",
    "\n",
    "*accept=1* indicates accepted order."
   ]
  },
  {
   "cell_type": "code",
   "execution_count": 25,
   "metadata": {},
   "outputs": [
    {
     "data": {
      "text/html": [
       "<div>\n",
       "<style scoped>\n",
       "    .dataframe tbody tr th:only-of-type {\n",
       "        vertical-align: middle;\n",
       "    }\n",
       "\n",
       "    .dataframe tbody tr th {\n",
       "        vertical-align: top;\n",
       "    }\n",
       "\n",
       "    .dataframe thead th {\n",
       "        text-align: right;\n",
       "    }\n",
       "</style>\n",
       "<table border=\"1\" class=\"dataframe\">\n",
       "  <thead>\n",
       "    <tr style=\"text-align: right;\">\n",
       "      <th></th>\n",
       "      <th>day</th>\n",
       "      <th>volume</th>\n",
       "      <th>price</th>\n",
       "      <th>accept</th>\n",
       "    </tr>\n",
       "  </thead>\n",
       "  <tbody>\n",
       "    <tr>\n",
       "      <th>0</th>\n",
       "      <td>0</td>\n",
       "      <td>7</td>\n",
       "      <td>0.20</td>\n",
       "      <td>0</td>\n",
       "    </tr>\n",
       "    <tr>\n",
       "      <th>1</th>\n",
       "      <td>0</td>\n",
       "      <td>7</td>\n",
       "      <td>0.30</td>\n",
       "      <td>1</td>\n",
       "    </tr>\n",
       "    <tr>\n",
       "      <th>2</th>\n",
       "      <td>1</td>\n",
       "      <td>10</td>\n",
       "      <td>0.09</td>\n",
       "      <td>0</td>\n",
       "    </tr>\n",
       "    <tr>\n",
       "      <th>3</th>\n",
       "      <td>2</td>\n",
       "      <td>6</td>\n",
       "      <td>0.25</td>\n",
       "      <td>1</td>\n",
       "    </tr>\n",
       "    <tr>\n",
       "      <th>4</th>\n",
       "      <td>2</td>\n",
       "      <td>6</td>\n",
       "      <td>0.25</td>\n",
       "      <td>1</td>\n",
       "    </tr>\n",
       "  </tbody>\n",
       "</table>\n",
       "</div>"
      ],
      "text/plain": [
       "   day  volume  price  accept\n",
       "0    0       7   0.20       0\n",
       "1    0       7   0.30       1\n",
       "2    1      10   0.09       0\n",
       "3    2       6   0.25       1\n",
       "4    2       6   0.25       1"
      ]
     },
     "execution_count": 25,
     "metadata": {},
     "output_type": "execute_result"
    }
   ],
   "source": [
    " m.orders_dataframe(\"A\")"
   ]
  },
  {
   "cell_type": "code",
   "execution_count": 31,
   "metadata": {},
   "outputs": [
    {
     "name": "stdout",
     "output_type": "stream",
     "text": [
      "|    |   day |   volume |   price |   accept |\n",
      "|---:|------:|---------:|--------:|---------:|\n",
      "|  0 |     0 |        7 |    0.2  |        0 |\n",
      "|  1 |     0 |        7 |    0.3  |        1 |\n",
      "|  2 |     1 |       10 |    0.09 |        0 |\n",
      "|  3 |     2 |        6 |    0.25 |        1 |\n",
      "|  4 |     2 |        6 |    0.25 |        1 |\n"
     ]
    }
   ],
   "source": [
    " print(m.orders_dataframe(\"A\").to_markdown())"
   ]
  },
  {
   "cell_type": "code",
   "execution_count": null,
   "metadata": {},
   "outputs": [],
   "source": []
  }
 ],
 "metadata": {
  "kernelspec": {
   "display_name": "Python 3",
   "language": "python",
   "name": "python3"
  },
  "language_info": {
   "codemirror_mode": {
    "name": "ipython",
    "version": 3
   },
   "file_extension": ".py",
   "mimetype": "text/x-python",
   "name": "python",
   "nbconvert_exporter": "python",
   "pygments_lexer": "ipython3",
   "version": "3.8.5"
  }
 },
 "nbformat": 4,
 "nbformat_minor": 4
}
