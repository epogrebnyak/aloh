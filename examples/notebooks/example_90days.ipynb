{
 "cells": [
  {
   "cell_type": "code",
   "execution_count": 14,
   "metadata": {},
   "outputs": [],
   "source": [
    "from aloh import (\n",
    "    Product,\n",
    "    generate_orders,\n",
    "    Volume,\n",
    "    Price,\n",
    "    OrderBook,\n",
    "    Plant,\n",
    "    Machine,\n",
    "    OptModel,\n",
    "    print_solution,\n",
    "    get_values)"
   ]
  },
  {
   "cell_type": "code",
   "execution_count": 15,
   "metadata": {},
   "outputs": [],
   "source": [
    "products = [Product.A, Product.B]\n",
    "n_days = 90"
   ]
  },
  {
   "cell_type": "code",
   "execution_count": 16,
   "metadata": {},
   "outputs": [
    {
     "data": {
      "text/plain": [
       "OrderBook(products=[<Product.A: 'H'>, <Product.B: 'H10'>], n_days=90)"
      ]
     },
     "execution_count": 16,
     "metadata": {},
     "output_type": "execute_result"
    }
   ],
   "source": [
    "ob = OrderBook(products, n_days)\n",
    "ob[Product.A] = generate_orders(\n",
    "    n_days=n_days,\n",
    "    total_volume=1.35 * 200 * n_days,\n",
    "    sizer=Volume(min_order=100, max_order=300, round_to=20),\n",
    "    pricer=Price(mean=150, delta=30),\n",
    ")\n",
    "ob[Product.B] = generate_orders(\n",
    "    n_days=n_days,\n",
    "    total_volume=0.8 * 100 * n_days,\n",
    "    sizer=Volume(min_order=50, max_order=120, round_to=5),\n",
    "    pricer=Price(mean=200, delta=15),\n",
    ")\n",
    "ob"
   ]
  },
  {
   "cell_type": "code",
   "execution_count": 17,
   "metadata": {},
   "outputs": [],
   "source": [
    "plant = Plant(products, n_days)\n",
    "plant[Product.A] = Machine(capacity=200, unit_cost=70, storage_days=2)\n",
    "plant[Product.B] = Machine(\n",
    "    capacity=100, unit_cost=40, storage_days=2, requires={Product.A: 1.25}\n",
    ")"
   ]
  },
  {
   "cell_type": "code",
   "execution_count": null,
   "metadata": {},
   "outputs": [],
   "source": [
    "from time import perf_counter\n",
    "start = perf_counter()\n",
    "ex0 = OptModel(\n",
    "    \"Two products model dynamic example0 py\", ob, plant, inventory_penalty=1.5\n",
    ")\n",
    "a, p = ex0.evaluate()\n",
    "ex0.save()\n",
    "print_solution(ex0)\n",
    "vs = get_values(ex0)\n",
    "end = perf_counter()"
   ]
  },
  {
   "cell_type": "code",
   "execution_count": null,
   "metadata": {},
   "outputs": [],
   "source": [
    "print(\"\\nКоличество заказов:\", len(ob))\n",
    "print(\"Дней:\", n_days)\n",
    "print(\"Продуктов:\", len(products))\n",
    "print(\"\\nВремя:\", round(end - start, 2), \"сек\")"
   ]
  }
 ],
 "metadata": {
  "kernelspec": {
   "display_name": "Python 3",
   "language": "python",
   "name": "python3"
  },
  "language_info": {
   "codemirror_mode": {
    "name": "ipython",
    "version": 3
   },
   "file_extension": ".py",
   "mimetype": "text/x-python",
   "name": "python",
   "nbconvert_exporter": "python",
   "pygments_lexer": "ipython3",
   "version": "3.7.7"
  }
 },
 "nbformat": 4,
 "nbformat_minor": 4
}
